{
  "nbformat": 4,
  "nbformat_minor": 0,
  "metadata": {
    "colab": {
      "provenance": [],
      "authorship_tag": "ABX9TyMCHpF44H0SznZdtkriR9bz",
      "include_colab_link": true
    },
    "kernelspec": {
      "name": "python3",
      "display_name": "Python 3"
    },
    "language_info": {
      "name": "python"
    }
  },
  "cells": [
    {
      "cell_type": "markdown",
      "metadata": {
        "id": "view-in-github",
        "colab_type": "text"
      },
      "source": [
        "<a href=\"https://colab.research.google.com/github/Walberf17/Evolutionary_Algorithms/blob/main/8_queens_integer.ipynb\" target=\"_parent\"><img src=\"https://colab.research.google.com/assets/colab-badge.svg\" alt=\"Open In Colab\"/></a>"
      ]
    },
    {
      "cell_type": "markdown",
      "source": [
        "# Algorith to solve the N-queens problem"
      ],
      "metadata": {
        "id": "TGKI6RC5stqC"
      }
    },
    {
      "cell_type": "markdown",
      "source": [
        "## The problem"
      ],
      "metadata": {
        "id": "FV5Bq3n5tJwJ"
      }
    },
    {
      "cell_type": "markdown",
      "source": [
        "In a NxN ChessBoard, N queens will be set, but in a way that one can't attack another.\n",
        "\n",
        "This uses a integer codification.\n",
        "\n",
        "The ChessBoard is always NxN for N queens, where N is a Integer number, higher then zero.\n",
        "\n",
        "This is a population algorithm."
      ],
      "metadata": {
        "id": "CWfYGSSIs4Oy"
      }
    },
    {
      "cell_type": "markdown",
      "source": [
        "## Imports"
      ],
      "metadata": {
        "id": "3OMZs9WHtHsw"
      }
    },
    {
      "cell_type": "code",
      "execution_count": 2,
      "metadata": {
        "id": "w2DBkGxhWdJF"
      },
      "outputs": [],
      "source": [
        "# For the solution\n",
        "from random import random , sample , randrange, choice, shuffle\n",
        "from statistics import mean , harmonic_mean\n",
        "import numpy as np\n",
        "\n",
        "# For showning results\n",
        "import matplotlib.pyplot as plt"
      ]
    },
    {
      "cell_type": "markdown",
      "source": [
        "# Main class"
      ],
      "metadata": {
        "id": "y3Hlwl_B1JcI"
      }
    },
    {
      "cell_type": "code",
      "source": [
        "class Evolution:\n",
        "    def __init__(self, n_size = 8, pop_size = 100, mutation_chance = .03, \n",
        "                 reprodution_chance = .8, max_generations = 100, \n",
        "                 generations_with_same_fitness = 100):\n",
        "        \"\"\"\n",
        "        This is the class that will work with the evolution of the N-Queens.\n",
        "        It takes the info for the initial answer and things.\n",
        "        param n_size: int>3, the number of queens and sides of the chessboard.\n",
        "        param pop_size: int, how many individual to create\n",
        "        param mutation_chance: float, (0,1]\n",
        "        param reprodution_chance: float, (0,1]\n",
        "        param max_generations: int, max number of generations to run\n",
        "        param generations_with_same_fitness: int, max times there is no evolution\n",
        "\n",
        "        \"\"\"\n",
        "        \n",
        "        # For the individual\n",
        "        self.n_size = n_size\n",
        "        \n",
        "        # For population\n",
        "        self.pop_size = pop_size\n",
        "        self.population = list()\n",
        "\n",
        "        # limiters\n",
        "        self.max_generations = max_generations\n",
        "        self.max_generations_with_same_fitness = generations_with_same_fitness\n",
        "        self.fit_ticks = 0\n",
        "        self.generation = -1\n",
        "        self.generations_with_same_fitness = -1\n",
        "\n",
        "        # chances of reproduction and mutation\n",
        "        self.mutation_chance = mutation_chance\n",
        "        self.reprodution_chance = reprodution_chance\n",
        "\n",
        "        # lists for generations\n",
        "        self.parents = list()\n",
        "        self.children = list()\n",
        "        self.mutants = list()\n",
        "\n",
        "        # for metrics\n",
        "        self.best_fitness_list = list()\n",
        "        self.best_fitness = float('inf')\n",
        "        \n",
        "        # initialize things\n",
        "        self.create_population()\n",
        "        self.set_next_generation()\n",
        "        \n",
        "    def set_next_generation(self):\n",
        "        \"\"\"\n",
        "        Reset the lists and select the next best population with the same size \n",
        "        as the initial one.\n",
        "        \"\"\"\n",
        "        # counters\n",
        "        self.generations_with_same_fitness += 1\n",
        "        self.generation += 1\n",
        "\n",
        "        # parents list\n",
        "        self.parents.clear()\n",
        "        \n",
        "        # children\n",
        "        self.population.extend(self.children)\n",
        "        self.children.clear()\n",
        "\n",
        "        # mutants\n",
        "        self.population.extend(self.mutants)\n",
        "        self.mutants.clear()\n",
        "\n",
        "        # select the population\n",
        "        self.population.sort(reverse = False , key = self.take_fitness)\n",
        "        self.population = self.population[:self.pop_size]\n",
        "\n",
        "        # set the metrics\n",
        "        _ , best_fitness = self.population[0]\n",
        "        self.best_fitness_list.append(best_fitness)\n",
        "        if best_fitness < self.best_fitness:\n",
        "            self.best_fitness = best_fitness\n",
        "            self.generations_with_same_fitness = 0\n",
        "\n",
        "    def take_fitness(self, individual):\n",
        "        \"\"\"\n",
        "        Function to organize the elements in the population\n",
        "        \"\"\"\n",
        "        return individual[1]\n",
        "\n",
        "    def create_population(self, pop_size = None):\n",
        "        \"\"\"\n",
        "        Create the initial population for thi object with that many individuals.\n",
        "        If pop_size is None, then the initial pop_size is used.\n",
        "        \"\"\"\n",
        "        if pop_size is None:\n",
        "            pop_size = self.pop_size\n",
        "        for _ in range(pop_size):\n",
        "            individual = self.create_n()\n",
        "            while individual in self.population:\n",
        "                individual = self.create_n()\n",
        "            self.population.append(individual)\n",
        "\n",
        "    def create_n(self):\n",
        "        \"\"\"\n",
        "        Create a individual for the population.\n",
        "        The individual is a list with the dna and fitness.\n",
        "        \"\"\"\n",
        "        individual = []\n",
        "        dna = list(range(self.n_size))\n",
        "        shuffle(dna)\n",
        "        individual.append(dna)\n",
        "        individual.append(self.calc_fit(dna))\n",
        "        return individual\n",
        "\n",
        "    def calc_fit(self, individual):\n",
        "        \"\"\"\n",
        "        the sample is a list of ints, from 0 to N. Return a float with the value for the fit of\n",
        "        this sample\n",
        "\n",
        "        param n : list of bits, the sample\n",
        "        return : int\n",
        "        \"\"\"\n",
        "        self.fit_ticks += 1\n",
        "\n",
        "        m_diags = set() # diagonais principais\n",
        "        s_diags = set() # diagonais secundárias\n",
        "        len_ind = len(individual)\n",
        "        for idx , pos in enumerate(individual):\n",
        "            m_diags.add(pos - idx)\n",
        "            s_diags.add(idx + pos)\n",
        "        \n",
        "        fitness = 0\n",
        "        fitness += abs(len_ind - len(m_diags))\n",
        "        fitness += abs(len_ind - len(s_diags))\n",
        "\n",
        "        return fitness\n",
        "\n",
        "    def print_board(self, individual = None):\n",
        "        \"\"\"\n",
        "        Print the individual if any given, or the best individual of this generation\n",
        "        \"\"\"\n",
        "        if individual is None:\n",
        "            individual = self.population[0]\n",
        "        board , fit = individual\n",
        "        sample_size = [len(board)]*2\n",
        "        b = np.zeros(sample_size)\n",
        "        a = np.full_like(b, '_' , dtype='object')\n",
        "        for i, j in enumerate(board):\n",
        "            a[i][j]='Q'\n",
        "        for row in a:\n",
        "            print(row)\n",
        "\n",
        "    def selector(self):\n",
        "        \"\"\"\n",
        "        Championish.\n",
        "\n",
        "        Loop throught the population and make a competition between that individual\n",
        "        and another random one. The winner is selected as a parent.\n",
        "\n",
        "        param pop : list of lists with the population.\n",
        "        param fit : func with the fit to use\n",
        "        \"\"\"\n",
        "        parents = []\n",
        "        self.population.sort(reverse = False , key=self.take_fitness)\n",
        "        for p1 in self.population:\n",
        "            couple = [p1]\n",
        "            couple.append(choice(self.population))\n",
        "            couple.sort(reverse = False , key=self.take_fitness)\n",
        "            self.parents.append(couple[0])\n",
        "    \n",
        "    def selection_handle(self):\n",
        "        \"\"\"\n",
        "        Selects the parents to reproduce\n",
        "        \"\"\"\n",
        "        self.selector()\n",
        "        self.parents = self.parents[:self.pop_size//2]\n",
        "\n",
        "    def reprodution_handle(self):\n",
        "        \"\"\"\n",
        "        clear the old list and check the reprodution\n",
        "        \"\"\"\n",
        "        for _ in range(len(self.parents)):\n",
        "            p1 , p2 = sample(self.parents , 2)\n",
        "            if random() > self.reprodution_chance:\n",
        "                self.reproduce(p1 , p2)\n",
        "\n",
        "    def reproduce(self, p1 , p2):\n",
        "        \"\"\"\n",
        "        param p1 : list of dna and fitness, a parent\n",
        "        param p2 : list of dna and fitness, a parent\n",
        "        cut the DNA in some random position, then take a part of each parent to a \n",
        "        child, the rest is from the second parent.\n",
        "        \"\"\"\n",
        "        cut_pos = randrange(1 , len(p1[0])-2)\n",
        "\n",
        "        # first child\n",
        "        dna = p1[0][:cut_pos]\n",
        "        child = []\n",
        "        other_parent = p2[0][:]\n",
        "        for value in dna:\n",
        "            other_parent.remove(value)\n",
        "        dna.extend(other_parent)\n",
        "        child = [dna , self.calc_fit(dna)]\n",
        "        if child not in self.mutants+self.population+self.children: \n",
        "            self.children.append(child)\n",
        "\n",
        "\n",
        "        # second child\n",
        "        dna = p2[0][:cut_pos]\n",
        "        child = []\n",
        "        other_parent = p1[0][:]\n",
        "        for value in dna:\n",
        "            other_parent.remove(value)\n",
        "        dna.extend(other_parent)\n",
        "        child = [dna , self.calc_fit(dna)]\n",
        "        if child not in self.mutants+self.population+self.children: \n",
        "            self.children.append(child)\n",
        "\n",
        "    def mutation_handle(self):\n",
        "        \"\"\"\n",
        "        param pop : list of list to try to mutate\n",
        "        param func_mut : function to use when mutating\n",
        "        \"\"\"\n",
        "        for individual in self.children:\n",
        "            if random() <= self.mutation_chance:\n",
        "                self.mutation(individual)\n",
        "\n",
        "    def mutation(self, individual):\n",
        "        \"\"\"\n",
        "        param n : a list, a sample\n",
        "\n",
        "        It takes a list and swap the position of 2 elements\n",
        "        \"\"\"\n",
        "        board = individual[0][:]\n",
        "        pos1 , pos2 = sample(list(range(len(board))),2)\n",
        "        board[pos1] , board[pos2] = board[pos2] , board[pos1]\n",
        "        individual = [board , self.calc_fit(board)]\n",
        "        if individual not in self.mutants+self.population+self.children: \n",
        "            self.mutants.append(individual)\n",
        "\n",
        "    def evolve(self, max_generations = None, initial_generation = None):\n",
        "        \"\"\"\n",
        "        Main loop, where it will evolve to get the answer\n",
        "        \"\"\"\n",
        "        # Initial values\n",
        "        running = True # for the loop\n",
        "\n",
        "        if initial_generation is None:\n",
        "            generation = self.generation\n",
        "        if max_generations is None:\n",
        "            max_generations = self.max_generations\n",
        "        else:\n",
        "            generation = 0\n",
        "        \n",
        "\n",
        "        while running:\n",
        "            # some randomness is always good :)\n",
        "            if generation//2 == 0:\n",
        "                self.create_population(5)\n",
        "\n",
        "            # run 1 generation\n",
        "            self.run()\n",
        "\n",
        "            # counter\n",
        "            generation += 1\n",
        "\n",
        "            # check condition to stop\n",
        "            if generation >= max_generations:\n",
        "                running = False\n",
        "            elif self.best_fitness == 0:\n",
        "                running = False\n",
        "            elif self.generations_with_same_fitness >= self.max_generations_with_same_fitness:\n",
        "                running = False\n",
        "\n",
        "            \n",
        "\n",
        "    def run(self):\n",
        "        \"\"\"\n",
        "        Run 1 generation, it is, select the parents, reproduce, mutate, then \n",
        "        organize and made the pop the same size as the initial.\n",
        "        \"\"\"\n",
        "        self.selection_handle()\n",
        "        self.reprodution_handle()\n",
        "        self.mutation_handle()\n",
        "        self.set_next_generation()\n",
        "\n",
        "    def get_best_individual(self):\n",
        "        return self.population[0]\n",
        "\n",
        "    def get_best_dna(self):\n",
        "        return self.population[0][0]\n",
        "\n",
        "    def get_best_fitness(self):\n",
        "        return self.population[0][1]\n",
        "\n",
        "    def get_fitness_calculated(self):\n",
        "        return self.fit_ticks\n",
        "\n",
        "    def plot_fitness_list(self):\n",
        "        plt.plot(self.best_fitness_list)\n",
        "        plt.xlabel(\"Generations\")\n",
        "        plt.ylabel(\"Fitness\")\n",
        "        plt.show()"
      ],
      "metadata": {
        "id": "wULXBZRstuha"
      },
      "execution_count": 3,
      "outputs": []
    },
    {
      "cell_type": "code",
      "source": [
        "chessboard = Evolution(n_size = 8, pop_size=20)"
      ],
      "metadata": {
        "id": "q9e4VNQPAREE"
      },
      "execution_count": 4,
      "outputs": []
    },
    {
      "cell_type": "code",
      "source": [
        "chessboard.get_best_fitness()"
      ],
      "metadata": {
        "colab": {
          "base_uri": "https://localhost:8080/"
        },
        "id": "KbWUuAhEA9OS",
        "outputId": "186ac13d-099e-4680-95a1-744999bdd7a7"
      },
      "execution_count": 5,
      "outputs": [
        {
          "output_type": "execute_result",
          "data": {
            "text/plain": [
              "1"
            ]
          },
          "metadata": {},
          "execution_count": 5
        }
      ]
    },
    {
      "cell_type": "code",
      "source": [
        "chessboard.generation"
      ],
      "metadata": {
        "colab": {
          "base_uri": "https://localhost:8080/"
        },
        "id": "1ZzX0M45MiVp",
        "outputId": "098f9920-4b2f-43b0-cfcc-52f0f7b05711"
      },
      "execution_count": 6,
      "outputs": [
        {
          "output_type": "execute_result",
          "data": {
            "text/plain": [
              "0"
            ]
          },
          "metadata": {},
          "execution_count": 6
        }
      ]
    },
    {
      "cell_type": "code",
      "source": [
        "chessboard.print_board()"
      ],
      "metadata": {
        "colab": {
          "base_uri": "https://localhost:8080/"
        },
        "id": "5n54IdWBE_nC",
        "outputId": "5409740e-0e3f-434a-8471-8e6366fb8f77"
      },
      "execution_count": 7,
      "outputs": [
        {
          "output_type": "stream",
          "name": "stdout",
          "text": [
            "['Q' '_' '_' '_' '_' '_' '_' '_']\n",
            "['_' '_' '_' '_' '_' '_' '_' 'Q']\n",
            "['_' '_' '_' 'Q' '_' '_' '_' '_']\n",
            "['_' '_' '_' '_' 'Q' '_' '_' '_']\n",
            "['_' '_' '_' '_' '_' '_' 'Q' '_']\n",
            "['_' 'Q' '_' '_' '_' '_' '_' '_']\n",
            "['_' '_' '_' '_' '_' 'Q' '_' '_']\n",
            "['_' '_' 'Q' '_' '_' '_' '_' '_']\n"
          ]
        }
      ]
    },
    {
      "cell_type": "code",
      "source": [
        "chessboard.evolve()"
      ],
      "metadata": {
        "id": "J-7DEb2V19kj"
      },
      "execution_count": 8,
      "outputs": []
    },
    {
      "cell_type": "code",
      "source": [
        "chessboard.get_best_fitness()"
      ],
      "metadata": {
        "colab": {
          "base_uri": "https://localhost:8080/"
        },
        "id": "GBCHr3Bx1_dB",
        "outputId": "6e1ac73a-028f-4c3c-bfa7-da189a771d24"
      },
      "execution_count": 9,
      "outputs": [
        {
          "output_type": "execute_result",
          "data": {
            "text/plain": [
              "0"
            ]
          },
          "metadata": {},
          "execution_count": 9
        }
      ]
    },
    {
      "cell_type": "code",
      "source": [
        "chessboard.generation"
      ],
      "metadata": {
        "colab": {
          "base_uri": "https://localhost:8080/"
        },
        "id": "UOZIZUoT2DmD",
        "outputId": "e6d6916d-c183-49e8-e1de-44b108e128ef"
      },
      "execution_count": 10,
      "outputs": [
        {
          "output_type": "execute_result",
          "data": {
            "text/plain": [
              "10"
            ]
          },
          "metadata": {},
          "execution_count": 10
        }
      ]
    },
    {
      "cell_type": "code",
      "source": [
        "chessboard.plot_fitness_list()"
      ],
      "metadata": {
        "colab": {
          "base_uri": "https://localhost:8080/",
          "height": 279
        },
        "id": "3fUZ0cHZcHEb",
        "outputId": "50cca168-4f2f-4909-fa89-68845509e079"
      },
      "execution_count": 11,
      "outputs": [
        {
          "output_type": "display_data",
          "data": {
            "text/plain": [
              "<Figure size 432x288 with 1 Axes>"
            ],
            "image/png": "[encoded data removed]"
          },
          "metadata": {
            "needs_background": "light"
          }
        }
      ]
    },
    {
      "cell_type": "code",
      "source": [
        "chessboard.get_fitness_calculated()"
      ],
      "metadata": {
        "colab": {
          "base_uri": "https://localhost:8080/"
        },
        "id": "Pjs7FOUfcUnM",
        "outputId": "1c6f3a70-1721-4709-cb9c-51a33f47ddea"
      },
      "execution_count": 12,
      "outputs": [
        {
          "output_type": "execute_result",
          "data": {
            "text/plain": [
              "69"
            ]
          },
          "metadata": {},
          "execution_count": 12
        }
      ]
    }
  ]
}